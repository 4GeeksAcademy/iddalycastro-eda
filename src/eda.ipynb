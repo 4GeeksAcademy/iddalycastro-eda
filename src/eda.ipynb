{
 "cells": [
  {
   "cell_type": "markdown",
   "id": "a7ff1a19",
   "metadata": {},
   "source": [
    "# EDA \n",
    "\n",
    ">  Fuente : airbnd NY"
   ]
  },
  {
   "cell_type": "code",
   "execution_count": null,
   "id": "1dcc6bf7",
   "metadata": {
    "vscode": {
     "languageId": "plaintext"
    }
   },
   "outputs": [],
   "source": [
    "import panda as pd \n"
   ]
  }
 ],
 "metadata": {
  "language_info": {
   "name": "python"
  }
 },
 "nbformat": 4,
 "nbformat_minor": 5
}
